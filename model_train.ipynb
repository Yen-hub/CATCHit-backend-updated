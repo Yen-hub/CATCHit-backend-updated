{
  "cells": [
    {
      "cell_type": "code",
      "execution_count": 1,
      "id": "4f87b4e3-7b84-4a30-b28e-f4b733b58239",
      "metadata": {},
      "outputs": [],
      "source": [
        "import pandas as pd\n",
        "import re\n",
        "from sklearn.feature_extraction.text import TfidfVectorizer\n",
        "from sklearn.model_selection import train_test_split\n",
        "from sklearn.linear_model import LogisticRegression\n",
        "from sklearn.metrics import accuracy_score, classification_report\n",
        "import joblib\n",
        "from flask import Flask, request, jsonify"
      ]
    },
    {
      "cell_type": "code",
      "execution_count": 3,
      "id": "cb5ae93f-2725-402a-bf8e-e362171b000c",
      "metadata": {},
      "outputs": [],
      "source": [
        "# Step 1: Load and preprocess the dataset\n",
        "def load_and_preprocess_data(file_path):\n",
        "    df = pd.read_csv(file_path)\n",
        "    # Map labels to binary: 0 for benign, 1 for malicious\n",
        "    df['type'] = df['type'].apply(lambda x: 0 if x == 'benign' else 1)\n",
        "    return df"
      ]
    },
    {
      "cell_type": "code",
      "execution_count": 5,
      "id": "6e354f98-57c5-4d3c-8b2d-9c2465bfc405",
      "metadata": {},
      "outputs": [],
      "source": [
        "# Step 2: Define a custom tokenizer for URLs\n",
        "def url_tokenizer(url):\n",
        "    # Split on '/', '-', '.'\n",
        "    tokens = re.split('[/-]', url)\n",
        "    return [token for token in tokens if token]"
      ]
    },
    {
      "cell_type": "code",
      "execution_count": 7,
      "id": "ac2e9b93-fc33-4e88-b144-b8e160742d92",
      "metadata": {},
      "outputs": [],
      "source": [
        "# Step 3: Extract features using TF-IDF\n",
        "def extract_features(urls):\n",
        "    vectorizer = TfidfVectorizer(tokenizer=url_tokenizer)\n",
        "    features = vectorizer.fit_transform(urls)\n",
        "    return features, vectorizer"
      ]
    },
    {
      "cell_type": "code",
      "execution_count": 9,
      "id": "2502b847-bde0-4c2a-9d8f-416e4a2d166f",
      "metadata": {},
      "outputs": [],
      "source": [
        "# Step 4: Train the model\n",
        "def train_model(X, y):\n",
        "    X_train, X_test, y_train, y_test = train_test_split(X, y, test_size=0.2, random_state=42)\n",
        "    model = LogisticRegression(random_state=0)\n",
        "    model.fit(X_train, y_train)\n",
        "    \n",
        "    # Evaluate the model\n",
        "    y_pred = model.predict(X_test)\n",
        "    print(\"Accuracy:\", accuracy_score(y_test, y_pred))\n",
        "    print(\"Classification Report:\\n\", classification_report(y_test, y_pred))\n",
        "    \n",
        "    return model, X_test, y_test"
      ]
    },
    {
      "cell_type": "code",
      "execution_count": 11,
      "id": "bcaea095-75b6-49de-afdb-fe089648ce8b",
      "metadata": {},
      "outputs": [],
      "source": [
        "# Step 5: Save the model and vectorizer\n",
        "def save_model_and_vectorizer(model, vectorizer, model_path='url_classifier.pkl', vectorizer_path='vectorizer.pkl'):\n",
        "    joblib.dump(model, model_path)\n",
        "    joblib.dump(vectorizer, vectorizer_path)"
      ]
    },
    {
      "cell_type": "code",
      "execution_count": 13,
      "id": "83436701-9686-42aa-912f-82d4fdec3d1b",
      "metadata": {},
      "outputs": [
        {
          "name": "stderr",
          "output_type": "stream",
          "text": [
            "C:\\Users\\BERTHOLD\\anaconda3\\Lib\\site-packages\\sklearn\\feature_extraction\\text.py:521: UserWarning: The parameter 'token_pattern' will not be used since 'tokenizer' is not None'\n",
            "  warnings.warn(\n"
          ]
        },
        {
          "name": "stdout",
          "output_type": "stream",
          "text": [
            "Accuracy: 0.9223888389806433\n",
            "Classification Report:\n",
            "               precision    recall  f1-score   support\n",
            "\n",
            "           0       0.90      0.99      0.94     85778\n",
            "           1       0.98      0.79      0.87     44461\n",
            "\n",
            "    accuracy                           0.92    130239\n",
            "   macro avg       0.94      0.89      0.91    130239\n",
            "weighted avg       0.93      0.92      0.92    130239\n",
            "\n"
          ]
        }
      ],
      "source": [
        "# Main execution\n",
        "# Replace with the path to your dataset\n",
        "dataset_path = 'malicious_phish.csv'\n",
        "\n",
        "# Load and preprocess data\n",
        "df = load_and_preprocess_data(dataset_path)\n",
        "\n",
        "# Extract features\n",
        "X, vectorizer = extract_features(df['url'])\n",
        "y = df['type']\n",
        "\n",
        "# Train model\n",
        "model, X_test, y_test = train_model(X, y)\n",
        "\n",
        "# Save model and vectorizer\n",
        "save_model_and_vectorizer(model, vectorizer)"
      ]
    },
    {
      "cell_type": "code",
      "execution_count": null,
      "id": "6ae8efd9-d9a6-408a-af0e-411be97c06b9",
      "metadata": {},
      "outputs": [],
      "source": []
    }
  ],
  "metadata": {
    "kernelspec": {
      "display_name": "Python [conda env:base] *",
      "language": "python",
      "name": "conda-base-py"
    },
    "language_info": {
      "codemirror_mode": {
        "name": "ipython",
        "version": 3
      },
      "file_extension": ".py",
      "mimetype": "text/x-python",
      "name": "python",
      "nbconvert_exporter": "python",
      "pygments_lexer": "ipython3",
      "version": "3.12.7"
    }
  },
  "nbformat": 4,
  "nbformat_minor": 5
}
